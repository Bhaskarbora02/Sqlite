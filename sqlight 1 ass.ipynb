{
 "cells": [
  {
   "cell_type": "code",
   "execution_count": 1,
   "id": "9a1000c3",
   "metadata": {},
   "outputs": [],
   "source": [
    "import pandas as pd\n",
    "import sqlite3"
   ]
  },
  {
   "cell_type": "code",
   "execution_count": 47,
   "id": "480f1609",
   "metadata": {},
   "outputs": [],
   "source": [
    "create=\"\"\"\n",
    "CREATE TABLE Ages (\n",
    "  name VARCHAR(128),\n",
    "  age INTEGER\n",
    ");\n",
    "\n",
    "\"\"\""
   ]
  },
  {
   "cell_type": "code",
   "execution_count": 48,
   "id": "33c336d3",
   "metadata": {},
   "outputs": [],
   "source": [
    "executesql= sqlite3.connect('exam1.db')\n",
    "cur= executesql.cursor()\n",
    "executesql.execute(create)\n",
    "executesql.commit()"
   ]
  },
  {
   "cell_type": "code",
   "execution_count": 66,
   "id": "1ecca5d1",
   "metadata": {
    "scrolled": false
   },
   "outputs": [
    {
     "data": {
      "text/plain": [
       "'del1= \"DELETE from Ages;\"\\ncur.execute(del1)'"
      ]
     },
     "execution_count": 66,
     "metadata": {},
     "output_type": "execute_result"
    }
   ],
   "source": [
    "\"\"\"del1= \"DELETE from Ages;\"\n",
    "cur.execute(del1)\"\"\""
   ]
  },
  {
   "cell_type": "code",
   "execution_count": 49,
   "id": "4d181c4c",
   "metadata": {},
   "outputs": [],
   "source": [
    "q1=[('Mara', 28),('Otto', 33),('Fyn', 31),('Neshawn', 17)]"
   ]
  },
  {
   "cell_type": "code",
   "execution_count": 50,
   "id": "b7faf93b",
   "metadata": {},
   "outputs": [],
   "source": [
    "ins= \"insert into Ages values(?,? )\""
   ]
  },
  {
   "cell_type": "code",
   "execution_count": 51,
   "id": "7b911c0d",
   "metadata": {},
   "outputs": [
    {
     "data": {
      "text/plain": [
       "<sqlite3.Cursor at 0x13b268d5140>"
      ]
     },
     "execution_count": 51,
     "metadata": {},
     "output_type": "execute_result"
    }
   ],
   "source": [
    "cur.executemany(ins,q1)\n"
   ]
  },
  {
   "cell_type": "code",
   "execution_count": 59,
   "id": "13d29e96",
   "metadata": {},
   "outputs": [],
   "source": [
    "#fetch data\n",
    "qr = \"select hex(name||age) as X from Ages order by X;\"\n",
    "rs=cur.execute(qr)"
   ]
  },
  {
   "cell_type": "code",
   "execution_count": 60,
   "id": "425baf1a",
   "metadata": {},
   "outputs": [
    {
     "data": {
      "text/plain": [
       "[('46796E3331',),\n",
       " ('4D6172613238',),\n",
       " ('4E65736861776E3137',),\n",
       " ('4F74746F3333',)]"
      ]
     },
     "execution_count": 60,
     "metadata": {},
     "output_type": "execute_result"
    }
   ],
   "source": [
    "rs.fetchall()"
   ]
  },
  {
   "cell_type": "code",
   "execution_count": 63,
   "id": "3f25cd07",
   "metadata": {},
   "outputs": [],
   "source": [
    "# fetch first row \n",
    "qr = \"select hex(name||age) as X from Ages order by X limit 1 ;\"\n",
    "rs=cur.execute(qr)\n",
    "s=rs.fetchall()"
   ]
  },
  {
   "cell_type": "code",
   "execution_count": 65,
   "id": "7eb7ee69",
   "metadata": {},
   "outputs": [
    {
     "name": "stdout",
     "output_type": "stream",
     "text": [
      "The first row in the resulting record set :  46796E3331\n"
     ]
    }
   ],
   "source": [
    "print(\"The first row in the resulting record set : \",s[0][0])"
   ]
  },
  {
   "cell_type": "code",
   "execution_count": null,
   "id": "e8304e02",
   "metadata": {},
   "outputs": [],
   "source": []
  }
 ],
 "metadata": {
  "kernelspec": {
   "display_name": "Python 3 (ipykernel)",
   "language": "python",
   "name": "python3"
  },
  "language_info": {
   "codemirror_mode": {
    "name": "ipython",
    "version": 3
   },
   "file_extension": ".py",
   "mimetype": "text/x-python",
   "name": "python",
   "nbconvert_exporter": "python",
   "pygments_lexer": "ipython3",
   "version": "3.11.5"
  }
 },
 "nbformat": 4,
 "nbformat_minor": 5
}
